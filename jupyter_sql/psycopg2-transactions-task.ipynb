{
 "cells": [
  {
   "cell_type": "markdown",
   "metadata": {},
   "source": [
    "# Exercise 10: Psycopg − programmatic access to Postgres"
   ]
  },
  {
   "cell_type": "markdown",
   "metadata": {},
   "source": [
    "This exercise focuses on using a SQL database, Postgres here, \"programmatically\": this means we will be writing some Python code to interact with the database, similarly to how a developer may build a web application, such as an online store. We will also use transactions to make sure our updates to the database in response to the user's request are atomic and consistent."
   ]
  },
  {
   "cell_type": "markdown",
   "metadata": {},
   "source": [
    "First off, let's set up a simple database representing the product offering and the orders received for a fictional online store selling kitchen utensils."
   ]
  },
  {
   "cell_type": "code",
   "execution_count": 1,
   "metadata": {},
   "outputs": [],
   "source": [
    "%load_ext sql"
   ]
  },
  {
   "cell_type": "markdown",
   "metadata": {},
   "source": [
    "Connect to the database. This should work for the docker-based setup. You should change the connection string if you have installed postgres manually."
   ]
  },
  {
   "cell_type": "code",
   "execution_count": 2,
   "metadata": {},
   "outputs": [],
   "source": [
    "%sql postgresql://postgres:example@db:5432"
   ]
  },
  {
   "cell_type": "code",
   "execution_count": 3,
   "metadata": {},
   "outputs": [
    {
     "name": "stdout",
     "output_type": "stream",
     "text": [
      " * postgresql://postgres:***@db:5432\n",
      "Done.\n",
      "Done.\n",
      "Done.\n",
      "Done.\n",
      "11 rows affected.\n"
     ]
    },
    {
     "data": {
      "text/plain": [
       "[]"
      ]
     },
     "execution_count": 3,
     "metadata": {},
     "output_type": "execute_result"
    }
   ],
   "source": [
    "%%sql\n",
    "drop schema if exists shop cascade;\n",
    "\n",
    "create schema shop;\n",
    "\n",
    "create table shop.products(\n",
    "    id serial primary key,\n",
    "    description varchar not null,\n",
    "    price numeric(7,2) not null,\n",
    "    in_stock integer not null);\n",
    "\n",
    "create table shop.orders(\n",
    "    id serial primary key,\n",
    "    time timestamp,\n",
    "    product_id integer,\n",
    "    quantity integer,\n",
    "    constraint product_id\n",
    "        foreign key (product_id) references shop.products (id)\n",
    "        match simple on update restrict on delete restrict);\n",
    "\n",
    "insert into shop.products (\n",
    "    id, description, price, in_stock) values\n",
    "    ( 1, 'Bread knife', 4.07, 8 ),\n",
    "    ( 2, 'Cheesecloth', 7.32, 3 ),\n",
    "    ( 3, 'Cleaver',     12.23,7 ),\n",
    "    ( 4, 'Colander',    3.00, 2 ),\n",
    "    ( 5, 'Grater',      7.99, 13),\n",
    "    ( 6, 'Ladle',       4.50, 23),\n",
    "    ( 7, 'Mandoline',   18.12,11),\n",
    "    ( 8, 'Oven mitt',   9.99, 6 ),\n",
    "    ( 9, 'Rolling pin', 4.85, 27),\n",
    "    (10, 'Sieve',       6.89, 16),\n",
    "    (11, 'Tin opener',  7.00, 2 );"
   ]
  },
  {
   "cell_type": "markdown",
   "metadata": {},
   "source": [
    "The product catalog also tracks how many items are in stock (the `in_stock` column), and each order can only consist of a single product, which is possibly unrealistic but simplifies some of the code in this exercise.\n",
    "\n",
    "Note that we're using `serial` for the type of the `id`s: this is a special `integer` type that instructs postgres to generate a fresh id whenever we insert a new row without explicitly specifying an id."
   ]
  },
  {
   "cell_type": "markdown",
   "metadata": {},
   "source": [
    "## Psycopg2\n",
    "Psycopg2 is (one of) the python libraries to interact with a Postgres instance. Let's import it.\n",
    "We're also importing `datetime`, which we'll need later to construct a `datetime` to insert as the order time.\n",
    "You can find the documentation for psycopg2 here: [https://www.psycopg.org/docs/](https://www.psycopg.org/docs/)"
   ]
  },
  {
   "cell_type": "code",
   "execution_count": 4,
   "metadata": {},
   "outputs": [],
   "source": [
    "import psycopg2\n",
    "import datetime"
   ]
  },
  {
   "cell_type": "markdown",
   "metadata": {},
   "source": [
    "We can ask `psycopg2` to connect to the database and give us back a handle to the connection as follows. This should work for the docker-based setup. You should change the connection string if you have installed postgres manually."
   ]
  },
  {
   "cell_type": "code",
   "execution_count": 5,
   "metadata": {},
   "outputs": [
    {
     "data": {
      "text/plain": [
       "<connection object at 0xffff93ff9e00; dsn: 'user=postgres password=xxx host=db port=5432', closed: 0>"
      ]
     },
     "execution_count": 5,
     "metadata": {},
     "output_type": "execute_result"
    }
   ],
   "source": [
    "conn = psycopg2.connect('postgresql://postgres:example@db:5432')\n",
    "conn"
   ]
  },
  {
   "cell_type": "markdown",
   "metadata": {},
   "source": [
    "By the way, this is the same thing that happens under the hood when you use the special `%sql` cell in `jupyter`."
   ]
  },
  {
   "cell_type": "markdown",
   "metadata": {},
   "source": [
    "*NOTE:* if you start getting unexpected errors when running queries, it may be that the `cursor` or connection are in an invalid state; if that happens you can try to call"
   ]
  },
  {
   "cell_type": "code",
   "execution_count": 6,
   "metadata": {},
   "outputs": [],
   "source": [
    "conn.rollback()"
   ]
  },
  {
   "cell_type": "markdown",
   "metadata": {},
   "source": [
    "an make a new cursor. This often resolves this problem. If it doesn't, you can try and re-start the python kernel (in the menu: \"Kernel\" -> \"Restart\") but then you need to re-run all cells."
   ]
  },
  {
   "cell_type": "markdown",
   "metadata": {},
   "source": [
    "## Executing queries − Product list"
   ]
  },
  {
   "cell_type": "markdown",
   "metadata": {},
   "source": [
    "We'll start with using python and `psycopg2` to run a query against the database to obtain a product list."
   ]
  },
  {
   "cell_type": "markdown",
   "metadata": {},
   "source": [
    "Here's an example of how you can write such a query, your task will then be to adapt this code to write a function that lists products in the shop."
   ]
  },
  {
   "cell_type": "markdown",
   "metadata": {},
   "source": [
    "First of all, we need to create a new `cursor`, which we'll use to perform database operations. As the documentation says,\n",
    "> The class `cursor` allows interaction with the database:\n",
    "> * send commands to the database using methods such as `execute()` and `executemany()`,\n",
    "> * retrieve data from the database by iteration or using methods such as `fetchone()`, `fetchmany()`, `fetchall()`."
   ]
  },
  {
   "cell_type": "code",
   "execution_count": 7,
   "metadata": {},
   "outputs": [],
   "source": [
    "cur = conn.cursor()"
   ]
  },
  {
   "cell_type": "markdown",
   "metadata": {},
   "source": [
    "Then we can start executing a sql query, with `execute`. In the following example, we're listing the product ids and their descriptions:"
   ]
  },
  {
   "cell_type": "code",
   "execution_count": 8,
   "metadata": {},
   "outputs": [],
   "source": [
    "cur.execute('select id, description from shop.products')"
   ]
  },
  {
   "cell_type": "markdown",
   "metadata": {},
   "source": [
    "As you can see, this only sends the query to the database, but doesn't start obtaining the results yet, to do that we have a few different options, but one of the easiest is to iterate over the cursor:"
   ]
  },
  {
   "cell_type": "code",
   "execution_count": 9,
   "metadata": {},
   "outputs": [
    {
     "name": "stdout",
     "output_type": "stream",
     "text": [
      "(1, 'Bread knife')\n",
      "(2, 'Cheesecloth')\n",
      "(3, 'Cleaver')\n",
      "(4, 'Colander')\n",
      "(5, 'Grater')\n",
      "(6, 'Ladle')\n",
      "(7, 'Mandoline')\n",
      "(8, 'Oven mitt')\n",
      "(9, 'Rolling pin')\n",
      "(10, 'Sieve')\n",
      "(11, 'Tin opener')\n"
     ]
    }
   ],
   "source": [
    "for record in cur:\n",
    "    print(record)"
   ]
  },
  {
   "cell_type": "markdown",
   "metadata": {},
   "source": [
    "We get one tuple per record (row), with one element per field.\n",
    "\n",
    "We can also use `fetchall` to obtain all results in a single list. However, because we've already iterated over the cursor, we need to re-run the query first, otherwise we'd just get an empty resultset."
   ]
  },
  {
   "cell_type": "code",
   "execution_count": 10,
   "metadata": {},
   "outputs": [
    {
     "data": {
      "text/plain": [
       "[(1, 'Bread knife'),\n",
       " (2, 'Cheesecloth'),\n",
       " (3, 'Cleaver'),\n",
       " (4, 'Colander'),\n",
       " (5, 'Grater'),\n",
       " (6, 'Ladle'),\n",
       " (7, 'Mandoline'),\n",
       " (8, 'Oven mitt'),\n",
       " (9, 'Rolling pin'),\n",
       " (10, 'Sieve'),\n",
       " (11, 'Tin opener')]"
      ]
     },
     "execution_count": 10,
     "metadata": {},
     "output_type": "execute_result"
    }
   ],
   "source": [
    "cur = conn.cursor()\n",
    "cur.execute('select id, description from shop.products')\n",
    "cur.fetchall()"
   ]
  },
  {
   "cell_type": "markdown",
   "metadata": {},
   "source": [
    "We can also use string formatting to display this in a more human readable manner, for example:"
   ]
  },
  {
   "cell_type": "code",
   "execution_count": 11,
   "metadata": {},
   "outputs": [
    {
     "name": "stdout",
     "output_type": "stream",
     "text": [
      "1: Bread knife\n",
      "2: Cheesecloth\n",
      "3: Cleaver\n",
      "4: Colander\n",
      "5: Grater\n",
      "6: Ladle\n",
      "7: Mandoline\n",
      "8: Oven mitt\n",
      "9: Rolling pin\n",
      "10: Sieve\n",
      "11: Tin opener\n"
     ]
    }
   ],
   "source": [
    "cur = conn.cursor()\n",
    "cur.execute('select id, description from shop.products')\n",
    "for record in cur:\n",
    "    print(\"{}: {}\".format(*record))"
   ]
  },
  {
   "cell_type": "markdown",
   "metadata": {},
   "source": [
    "We should also remember to close the cursors once we're done with them, to release resources:"
   ]
  },
  {
   "cell_type": "code",
   "execution_count": 12,
   "metadata": {},
   "outputs": [],
   "source": [
    "cur.close()"
   ]
  },
  {
   "cell_type": "markdown",
   "metadata": {},
   "source": [
    "Now that we have discussed how to use a cursor, your task is to write the function `show_products`, that when called prints all products in the database, displaying their description, price, and the number of items in stock. Here's an example of the output you should obtain:\n",
    "\n",
    "    Bread knife, 4.07 CHF (8 available)\n",
    "    Cheesecloth, 7.32 CHF (3 available)\n",
    "    Cleaver, 12.23 CHF (7 available)\n",
    "    Colander, 3.00 CHF (2 available)\n",
    "    Grater, 7.99 CHF (13 available)\n",
    "    Ladle, 4.50 CHF (23 available)\n",
    "    Mandoline, 18.12 CHF (11 available)\n",
    "    Oven mitt, 9.99 CHF (6 available)\n",
    "    Rolling pin, 4.85 CHF (27 available)\n",
    "    Sieve, 6.89 CHF (16 available)\n",
    "    Tin opener, 7.00 CHF (2 available)"
   ]
  },
  {
   "cell_type": "code",
   "execution_count": 13,
   "metadata": {},
   "outputs": [],
   "source": [
    "def show_products():\n",
    "    cur = conn.cursor()\n",
    "    cur.execute('select description, price, in_stock from shop.products')\n",
    "    for record in cur:\n",
    "        name, price, number = record\n",
    "        print(f\"{name}, {price} CHF, ({number} available)\")"
   ]
  },
  {
   "cell_type": "markdown",
   "metadata": {},
   "source": [
    "Run it and check it returns the correct results:"
   ]
  },
  {
   "cell_type": "code",
   "execution_count": 14,
   "metadata": {},
   "outputs": [
    {
     "name": "stdout",
     "output_type": "stream",
     "text": [
      "Bread knife, 4.07 CHF, (8 available)\n",
      "Cheesecloth, 7.32 CHF, (3 available)\n",
      "Cleaver, 12.23 CHF, (7 available)\n",
      "Colander, 3.00 CHF, (2 available)\n",
      "Grater, 7.99 CHF, (13 available)\n",
      "Ladle, 4.50 CHF, (23 available)\n",
      "Mandoline, 18.12 CHF, (11 available)\n",
      "Oven mitt, 9.99 CHF, (6 available)\n",
      "Rolling pin, 4.85 CHF, (27 available)\n",
      "Sieve, 6.89 CHF, (16 available)\n",
      "Tin opener, 7.00 CHF, (2 available)\n"
     ]
    }
   ],
   "source": [
    "show_products()"
   ]
  },
  {
   "cell_type": "markdown",
   "metadata": {},
   "source": [
    "Great, now our customer knows what products are available. In a real web store, we would send this information as part of a web page to the user."
   ]
  },
  {
   "cell_type": "markdown",
   "metadata": {},
   "source": [
    "## Prepared statements − Finding products below a certain price\n",
    "\n",
    "This next section explains how we can pass in a parameter to the query that the user has provided. In the lecture, you've seen how you can use prepared statements for this: let's see how to do it with `psycopg2`."
   ]
  },
  {
   "cell_type": "markdown",
   "metadata": {},
   "source": [
    "Let's start with a simple query: displaying the product description for a certain product id. We can use `%s` as a placeholder in the sql for the query parameters. Then we can use the second optional parameter to `execute` to pass the value for that placeholder, as follows."
   ]
  },
  {
   "cell_type": "code",
   "execution_count": 15,
   "metadata": {},
   "outputs": [
    {
     "name": "stdout",
     "output_type": "stream",
     "text": [
      "[('Cleaver',)]\n"
     ]
    }
   ],
   "source": [
    "cur = conn.cursor()\n",
    "product_id = 3\n",
    "cur.execute('select description from shop.products where id = %s;', (product_id,))\n",
    "print(cur.fetchall())"
   ]
  },
  {
   "cell_type": "markdown",
   "metadata": {},
   "source": [
    "Now that we have the ability to parametrize queries, your task is to write a query that helpfully returns to the customer all the products within a certain price range.\n",
    "Because the focus of this exercise is on accessing a database programmatically and not on how to write queries, here's the query you'd write to obtain all products between 4CHF and 5CHF:\n",
    "\n",
    "    select description, price, in_stock from shop.products where price >= 4 and price <= 5\n",
    "    \n",
    "Let's see what happens when we run it:"
   ]
  },
  {
   "cell_type": "code",
   "execution_count": 16,
   "metadata": {},
   "outputs": [
    {
     "name": "stdout",
     "output_type": "stream",
     "text": [
      "[('Bread knife', Decimal('4.07'), 8), ('Ladle', Decimal('4.50'), 23), ('Rolling pin', Decimal('4.85'), 27)]\n"
     ]
    }
   ],
   "source": [
    "cur = conn.cursor()\n",
    "product_id = 3\n",
    "cur.execute('select description, price, in_stock from shop.products where price >= 4 and price <= 5')\n",
    "print(cur.fetchall())"
   ]
  },
  {
   "cell_type": "markdown",
   "metadata": {},
   "source": [
    "Your task is now to write a function `get_products_within_price_range` that takes the lower and upper bound for the price and prints the products within that price range. You can use the same formatting as `show_products`.\n",
    "When called with `get_products_within_price_range(5, 6)` it should print:\n",
    "\n",
    "    Cheesecloth, 7.32 CHF (3 available)\n",
    "    Grater, 7.99 CHF (13 available)\n",
    "    Sieve, 6.89 CHF (16 available)\n",
    "    Tin opener, 7.00 CHF (2 available)"
   ]
  },
  {
   "cell_type": "code",
   "execution_count": 17,
   "metadata": {},
   "outputs": [],
   "source": [
    "def get_products_within_price_range(price_lower_bound, price_upper_bound):\n",
    "    cur = conn.cursor()\n",
    "    cur.execute(f'select description, price, in_stock from shop.products where price >= {price_lower_bound} and price <= {price_upper_bound}')\n",
    "    for record in cur:\n",
    "        name, price, number = record\n",
    "        print(f\"{name}, {price} CHF, ({number} available)\")"
   ]
  },
  {
   "cell_type": "markdown",
   "metadata": {},
   "source": [
    "Run it and check it returns the correct results:"
   ]
  },
  {
   "cell_type": "code",
   "execution_count": 18,
   "metadata": {},
   "outputs": [
    {
     "name": "stdout",
     "output_type": "stream",
     "text": [
      "Cheesecloth, 7.32 CHF, (3 available)\n",
      "Grater, 7.99 CHF, (13 available)\n",
      "Sieve, 6.89 CHF, (16 available)\n",
      "Tin opener, 7.00 CHF, (2 available)\n"
     ]
    }
   ],
   "source": [
    "get_products_within_price_range(6, 8)"
   ]
  },
  {
   "cell_type": "markdown",
   "metadata": {},
   "source": [
    "We can also use the results from `cursor` to extract data from the database and use it programmatically. The following function returns the product id given a certain product description:"
   ]
  },
  {
   "cell_type": "code",
   "execution_count": 19,
   "metadata": {},
   "outputs": [],
   "source": [
    "def get_product_id_from_description(product_description):\n",
    "    cur = conn.cursor()\n",
    "    cur.execute('select id from shop.products where description = %s;', (product_description,))\n",
    "    results = cur.fetchall()\n",
    "    assert(len(results) == 1)\n",
    "    return results[0][0]"
   ]
  },
  {
   "cell_type": "code",
   "execution_count": 20,
   "metadata": {},
   "outputs": [
    {
     "data": {
      "text/plain": [
       "7"
      ]
     },
     "execution_count": 20,
     "metadata": {},
     "output_type": "execute_result"
    }
   ],
   "source": [
    "get_product_id_from_description('Mandoline')"
   ]
  },
  {
   "cell_type": "markdown",
   "metadata": {},
   "source": [
    "## Updates from `python` − Placing an order\n",
    "\n",
    "We will now take a look at how to update the database using cursors and prepared statemens via `psycopg2`.\n",
    "\n",
    "As an example, imagine the shop has decided to change the price oven mitts to 8.99CHF. They could write a query as follows:"
   ]
  },
  {
   "cell_type": "code",
   "execution_count": 21,
   "metadata": {},
   "outputs": [],
   "source": [
    "cur = conn.cursor()\n",
    "cur.execute('update shop.products set price = 8.99 where id = %s', (get_product_id_from_description('Oven mitt'),))\n",
    "#cur.execute('update shop.products set in_stock = -1 where id = %s', (get_product_id_from_description('Oven mitt'),))\n",
    "conn.commit()"
   ]
  },
  {
   "cell_type": "markdown",
   "metadata": {},
   "source": [
    "We need to call `commit` because running a query automatically starts a transaction for a `connection` in `psycopg2`, and we need to commit the transaction so that the changes become visible globally.\n",
    "\n",
    "Let's check that oven mitts are now within the right price range:"
   ]
  },
  {
   "cell_type": "code",
   "execution_count": 22,
   "metadata": {},
   "outputs": [
    {
     "name": "stdout",
     "output_type": "stream",
     "text": [
      "Oven mitt, 8.99 CHF, (6 available)\n"
     ]
    }
   ],
   "source": [
    "get_products_within_price_range(8.5, 9.5)"
   ]
  },
  {
   "cell_type": "markdown",
   "metadata": {},
   "source": [
    "This should show\n",
    "\n",
    "    Oven mitt, 8.99 CHF (6 available)"
   ]
  },
  {
   "cell_type": "markdown",
   "metadata": {},
   "source": [
    "Cool! Your task is to write a function `place_order` that takes a product id and a quantity and updates the `orders` table to add a new order for that product and quantity. To start, don't worry about updating the inventory (the `in_stock` field in `products`)."
   ]
  },
  {
   "cell_type": "code",
   "execution_count": 23,
   "metadata": {},
   "outputs": [],
   "source": [
    "import datetime"
   ]
  },
  {
   "cell_type": "code",
   "execution_count": 24,
   "metadata": {},
   "outputs": [],
   "source": [
    "def place_order(product_id, quantity):\n",
    "    now = datetime.datetime.now()\n",
    "    t = now.strftime('%Y-%m-%d %H:%M:%S') \n",
    "    cur = conn.cursor()\n",
    "    cur.execute(f\"INSERT INTO shop.orders (time, product_id, quantity) VALUES ('{t}',{product_id},{quantity})\")\n",
    "    conn.commit()"
   ]
  },
  {
   "cell_type": "markdown",
   "metadata": {},
   "source": [
    "Let's place an order for 2 mandolines!"
   ]
  },
  {
   "cell_type": "code",
   "execution_count": 25,
   "metadata": {},
   "outputs": [],
   "source": [
    "place_order(get_product_id_from_description('Mandoline'), 2)"
   ]
  },
  {
   "cell_type": "markdown",
   "metadata": {},
   "source": [
    "Now let's write a function to show the orders. We are going to need our first join here to show the product description for the orders. Your task is to write `show_orders`, which prints each order id, time, the related product description, and the order quantity.\n",
    "\n",
    "The output should look like this:\n",
    "\n",
    "    order 1: 2x Mandoline (on 2020-11-25 14:20:19.007563)"
   ]
  },
  {
   "cell_type": "code",
   "execution_count": 26,
   "metadata": {},
   "outputs": [
    {
     "name": "stdout",
     "output_type": "stream",
     "text": [
      " * postgresql://postgres:***@db:5432\n",
      "1 rows affected.\n"
     ]
    },
    {
     "data": {
      "text/html": [
       "<table>\n",
       "    <tr>\n",
       "        <th>id</th>\n",
       "        <th>quantity</th>\n",
       "        <th>description</th>\n",
       "        <th>time</th>\n",
       "    </tr>\n",
       "    <tr>\n",
       "        <td>1</td>\n",
       "        <td>2</td>\n",
       "        <td>Mandoline</td>\n",
       "        <td>2022-11-29 21:43:37</td>\n",
       "    </tr>\n",
       "</table>"
      ],
      "text/plain": [
       "[(1, 2, 'Mandoline', datetime.datetime(2022, 11, 29, 21, 43, 37))]"
      ]
     },
     "execution_count": 26,
     "metadata": {},
     "output_type": "execute_result"
    }
   ],
   "source": [
    "%%sql\n",
    "SELECT shop.orders.id, shop.orders.quantity, shop.products.description, shop.orders.time\n",
    "FROM shop.products \n",
    "INNER JOIN shop.orders ON shop.products.id=shop.orders.product_id; "
   ]
  },
  {
   "cell_type": "code",
   "execution_count": 27,
   "metadata": {},
   "outputs": [],
   "source": [
    "def show_orders():\n",
    "    cur = conn.cursor()\n",
    "    cur.execute(\"SELECT shop.orders.id, shop.orders.quantity, shop.products.description, shop.orders.time FROM shop.products INNER JOIN shop.orders ON shop.products.id=shop.orders.product_id\")\n",
    "    for record in cur:\n",
    "        idd, q, desc, time = record\n",
    "        print(f\"order {idd}: {q}x {desc} (on {time})\")"
   ]
  },
  {
   "cell_type": "markdown",
   "metadata": {},
   "source": [
    "Let's run it:"
   ]
  },
  {
   "cell_type": "code",
   "execution_count": 28,
   "metadata": {},
   "outputs": [
    {
     "name": "stdout",
     "output_type": "stream",
     "text": [
      "order 1: 2x Mandoline (on 2022-11-29 21:43:37)\n"
     ]
    }
   ],
   "source": [
    "show_orders()"
   ]
  },
  {
   "cell_type": "markdown",
   "metadata": {},
   "source": [
    "Ok, this works, but when we place an order we should also first check that there's sufficient inventory. We should also add the order and update the related product's inventory (`in_stock`) in the same transaction. This is necessary to ensure we can't concurrently accept two orders that we are not able to fulfill because we don't have sufficient inventory.\n",
    "\n",
    "Your task is to complete `place_order_and_update_stock` to perform the transaction. As previously mentioned, running a query starts a new transaction, which continues till we call `commit` or `rollback` on the connection.\n",
    "We're wrapping the whole body in a `try` block so that, in case there is an error (e.g. a constraint violation in the database query) we can rollback the whole transaction (with `conn.rollback()` in the `except` block).\n",
    "\n",
    "The function should return `True` if the order was placed successfully, and `False` otherwise. The function must fail if there is insufficient inventory and must never update `in_stock` to a negative value."
   ]
  },
  {
   "cell_type": "code",
   "execution_count": 29,
   "metadata": {},
   "outputs": [],
   "source": [
    "conn.rollback()"
   ]
  },
  {
   "cell_type": "code",
   "execution_count": 30,
   "metadata": {},
   "outputs": [],
   "source": [
    "def place_order_and_update_stock(product_id, quantity):\n",
    "    cur = conn.cursor()\n",
    "    time = datetime.datetime.now()\n",
    "    cur.execute('select in_stock from shop.products where id = %s', (product_id,))\n",
    "    results = cur.fetchall()\n",
    "    how_many_in_stock = results[0][0]\n",
    "    if quantity <= how_many_in_stock:\n",
    "        how_many_after = how_many_in_stock - quantity\n",
    "        cur.execute(f'update shop.products set in_stock = {how_many_after} where id = {product_id}')\n",
    "        place_order(product_id, quantity)\n",
    "        conn.commit()\n",
    "        return True\n",
    "    else:\n",
    "        return False"
   ]
  },
  {
   "cell_type": "markdown",
   "metadata": {},
   "source": [
    "Ok, let's pick a product:"
   ]
  },
  {
   "cell_type": "code",
   "execution_count": 31,
   "metadata": {},
   "outputs": [
    {
     "name": "stdout",
     "output_type": "stream",
     "text": [
      "Bread knife, 4.07 CHF, (8 available)\n",
      "Cheesecloth, 7.32 CHF, (3 available)\n",
      "Cleaver, 12.23 CHF, (7 available)\n",
      "Colander, 3.00 CHF, (2 available)\n",
      "Grater, 7.99 CHF, (13 available)\n",
      "Ladle, 4.50 CHF, (23 available)\n",
      "Mandoline, 18.12 CHF, (11 available)\n",
      "Rolling pin, 4.85 CHF, (27 available)\n",
      "Sieve, 6.89 CHF, (16 available)\n",
      "Tin opener, 7.00 CHF, (2 available)\n",
      "Oven mitt, 8.99 CHF, (6 available)\n"
     ]
    }
   ],
   "source": [
    "show_products()"
   ]
  },
  {
   "cell_type": "markdown",
   "metadata": {},
   "source": [
    "Let's try and order 10 tin openers:"
   ]
  },
  {
   "cell_type": "code",
   "execution_count": 32,
   "metadata": {},
   "outputs": [
    {
     "data": {
      "text/plain": [
       "False"
      ]
     },
     "execution_count": 32,
     "metadata": {},
     "output_type": "execute_result"
    }
   ],
   "source": [
    "place_order_and_update_stock(get_product_id_from_description('Tin opener'), 10)"
   ]
  },
  {
   "cell_type": "markdown",
   "metadata": {},
   "source": [
    "This of course should fail (it should return `False`), as we don't have enough tin openers in stock.\n",
    "\n",
    "Let's try with one, then:"
   ]
  },
  {
   "cell_type": "code",
   "execution_count": 33,
   "metadata": {},
   "outputs": [
    {
     "data": {
      "text/plain": [
       "True"
      ]
     },
     "execution_count": 33,
     "metadata": {},
     "output_type": "execute_result"
    }
   ],
   "source": [
    "place_order_and_update_stock(get_product_id_from_description('Tin opener'), 1)"
   ]
  },
  {
   "cell_type": "markdown",
   "metadata": {},
   "source": [
    "That should have worked! Let's check the orders:"
   ]
  },
  {
   "cell_type": "code",
   "execution_count": 34,
   "metadata": {},
   "outputs": [
    {
     "name": "stdout",
     "output_type": "stream",
     "text": [
      "order 1: 2x Mandoline (on 2022-11-29 21:43:37)\n",
      "order 2: 1x Tin opener (on 2022-11-29 21:43:50)\n"
     ]
    }
   ],
   "source": [
    "show_orders()"
   ]
  },
  {
   "cell_type": "markdown",
   "metadata": {},
   "source": [
    "This should have returned the two orders we've made so far:\n",
    "\n",
    "    order 1: 2x Mandoline (on 2020-11-25 14:20:19.007563)\n",
    "    order 2: 1x Tin opener (on 2020-11-25 14:37:43.065384)"
   ]
  },
  {
   "cell_type": "markdown",
   "metadata": {},
   "source": [
    "Ok, that's it. This would be a good start to set up an online store of kitchen utensils."
   ]
  }
 ],
 "metadata": {
  "kernelspec": {
   "display_name": "Python 3 (ipykernel)",
   "language": "python",
   "name": "python3"
  },
  "language_info": {
   "codemirror_mode": {
    "name": "ipython",
    "version": 3
   },
   "file_extension": ".py",
   "mimetype": "text/x-python",
   "name": "python",
   "nbconvert_exporter": "python",
   "pygments_lexer": "ipython3",
   "version": "3.9.2"
  }
 },
 "nbformat": 4,
 "nbformat_minor": 4
}
